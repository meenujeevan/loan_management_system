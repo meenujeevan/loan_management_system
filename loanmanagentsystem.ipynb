{
 "cells": [
  {
   "cell_type": "code",
   "execution_count": 4,
   "id": "ff1f19a7",
   "metadata": {},
   "outputs": [
    {
     "name": "stdout",
     "output_type": "stream",
     "text": [
      "Requirement already satisfied: mysql.connector in c:\\users\\dell\\anaconda3\\lib\\site-packages (2.2.9)\n",
      "Note: you may need to restart the kernel to use updated packages.\n"
     ]
    }
   ],
   "source": [
    "pip install mysql.connector"
   ]
  },
  {
   "cell_type": "code",
   "execution_count": 5,
   "id": "b8057220",
   "metadata": {},
   "outputs": [
    {
     "name": "stdout",
     "output_type": "stream",
     "text": [
      "(12745000, 15634000, 'Fully Paid', 1000000, 1, 21742, 1304520, 0, 1, 161000, 81000, Decimal('50'), 752, 21742, 3, 8, 1, 2, 0)\n",
      "(12745001, 15634001, 'Fully Paid', 611314, 2, 11323, 679380, 1, 2, 222897, 80108, Decimal('36'), 747, 11323, 3, 7, 0, 6, 5)\n",
      "(12745002, 15634002, 'Fully Paid', 266662, 2, 5661, 339660, 0, 2, 195510, 27539, Decimal('14'), 734, 5661, 3, 21, 1, 3, 4)\n",
      "(12745003, 15634003, 'Fully Paid', 153494, 1, 3774, 226440, 1, 2, 135184, 99899, Decimal('74'), 709, 3774, 2, 30, 1, 2, 4)\n",
      "(12745004, 15634004, 'Fully Paid', 176242, 1, 4000, 240000, 2, 3, 231683, 96965, Decimal('42'), 727, 4000, 1, 17, 0, 1, 0)\n",
      "(12745005, 15634005, 'Charged Off', 321992, 3, 6000, 360000, 0, 1, 238631, 24260, Decimal('10'), 744, 6000, 2, 4, 1, 2, 1)\n",
      "(12745006, 15634006, 'Fully Paid', 202928, 2, 3987, 239220, 1, 2, 111829, 65082, Decimal('58'), 741, 3987, 2, 22, 0, 5, 2)\n",
      "(12745007, 15634007, 'Charged Off', 621786, 3, 11900, 714000, 2, 3, 169172, 40842, Decimal('24'), 733, 11900, 1, 18, 0, 6, 1)\n",
      "(12745008, 15634008, 'Fully Paid', 266794, 3, 5984, 359040, 2, 1, 246274, 31245, Decimal('13'), 747, 5984, 1, 26, 1, 3, 2)\n",
      "(12745009, 15634009, 'Fully Paid', 202466, 1, 3876, 232560, 0, 2, 293282, 76128, Decimal('26'), 736, 3876, 2, 6, 1, 4, 5)\n",
      "(12745010, 15634010, 'Fully Paid', 266288, 3, 5743, 344580, 0, 1, 120652, 65161, Decimal('54'), 683, 5743, 1, 28, 1, 2, 5)\n",
      "(12745011, 15634011, 'Fully Paid', 121110, 1, 3260, 195600, 3, 3, 179111, 52251, Decimal('29'), 688, 3260, 1, 28, 1, 6, 4)\n",
      "(12745012, 15634012, 'Fully Paid', 258104, 2, 5989, 359340, 0, 1, 209056, 64904, Decimal('31'), 723, 5989, 2, 5, 1, 2, 5)\n",
      "(12745013, 15634013, 'Fully Paid', 161722, 1, 3765, 225900, 0, 1, 219435, 63597, Decimal('29'), 680, 3765, 1, 3, 1, 4, 1)\n",
      "(12745014, 15634014, 'Fully Paid', 753016, 1, 14857, 891420, 0, 2, 209291, 78780, Decimal('38'), 706, 14857, 3, 21, 1, 5, 3)\n",
      "(12745015, 15634015, 'Fully Paid', 444664, 2, 8642, 518520, 1, 1, 232260, 81008, Decimal('35'), 646, 8642, 2, 26, 0, 3, 4)\n",
      "(12745016, 15634016, 'Charged Off', 172282, 2, 3965, 237900, 3, 3, 151725, 66100, Decimal('44'), 682, 3965, 3, 22, 0, 6, 2)\n",
      "(12745017, 15634017, 'Fully Paid', 275440, 3, 5746, 344760, 1, 2, 287557, 80659, Decimal('28'), 729, 5746, 1, 26, 1, 2, 0)\n",
      "(12745018, 15634018, 'Fully Paid', 218834, 3, 5259, 315540, 1, 2, 190184, 34937, Decimal('18'), 742, 5259, 3, 3, 1, 5, 5)\n",
      "(12745019, 15634019, 'Fully Paid', 539990, 2, 10763, 645780, 0, 2, 124817, 94791, Decimal('76'), 715, 10763, 1, 6, 1, 3, 1)\n",
      "(12745020, 15634020, 'Charged Off', 105666, 1, 3198, 191880, 2, 3, 231552, 25709, Decimal('11'), 715, 3198, 2, 28, 1, 2, 3)\n",
      "(12745021, 15634021, 'Fully Paid', 346610, 2, 6476, 388560, 3, 1, 210636, 96980, Decimal('46'), 744, 6476, 3, 12, 1, 4, 0)\n",
      "(12745022, 15634022, 'Charged Off', 654126, 3, 12893, 773580, 2, 3, 177567, 47457, Decimal('27'), 747, 12893, 2, 30, 0, 7, 5)\n",
      "(12745023, 15634023, 'Fully Paid', 219648, 2, 5182, 310920, 1, 3, 161927, 56600, Decimal('35'), 722, 5182, 1, 11, 0, 3, 1)\n",
      "(12745024, 15634024, 'Fully Paid', 334620, 1, 5894, 353640, 0, 1, 251181, 73486, Decimal('29'), 740, 5894, 2, 10, 1, 1, 3)\n",
      "(12745025, 15634025, 'Fully Paid', 404008, 2, 8111, 486660, 0, 2, 416746, 228190, Decimal('55'), 652, 8111, 2, 24, 0, 6, 1)\n",
      "(12745026, 15634026, 'Fully Paid', 360228, 1, 7304, 438240, 1, 1, 850784, 229976, Decimal('27'), 730, 7304, 3, 20, 1, 2, 1)\n",
      "(12745027, 15634027, 'Fully Paid', 218724, 2, 4435, 266100, 0, 3, 750090, 297996, Decimal('40'), 736, 4435, 3, 17, 1, 3, 5)\n",
      "(12745028, 15634028, 'Charged Off', 441012, 2, 8942, 536520, 0, 1, 386958, 256329, Decimal('66'), 688, 8942, 2, 14, 1, 4, 4)\n",
      "(12745029, 15634029, 'Fully Paid', 337370, 2, 6841, 410460, 1, 2, 427174, 253460, Decimal('59'), 725, 6841, 1, 26, 1, 3, 3)\n",
      "(12745030, 15634030, 'Fully Paid', 765688, 2, 15511, 930660, 0, 3, 272448, 215308, Decimal('79'), 747, 15511, 2, 4, 0, 2, 0)\n",
      "(12745031, 15634031, 'Charged Off', 468908, 2, 9489, 569340, 0, 2, 272052, 122170, Decimal('45'), 721, 9489, 2, 26, 0, 6, 0)\n",
      "(12745032, 15634032, 'Charged Off', 219428, 1, 4449, 266940, 0, 3, 864204, 193306, Decimal('22'), 644, 4449, 3, 29, 0, 7, 5)\n",
      "(12745033, 15634033, 'Fully Paid', 574904, 3, 11657, 699420, 2, 3, 555038, 437171, Decimal('79'), 672, 11657, 1, 26, 0, 1, 4)\n",
      "(12745034, 15634034, 'Fully Paid', 401192, 3, 8176, 490560, 0, 1, 1021460, 669560, Decimal('66'), 748, 8176, 2, 10, 0, 2, 3)\n",
      "(12745035, 15634035, 'Fully Paid', 257444, 2, 5622, 337320, 2, 3, 289784, 203965, Decimal('70'), 741, 5622, 2, 11, 1, 5, 1)\n",
      "(12745036, 15634036, 'Fully Paid', 309694, 3, 6083, 364980, 2, 2, 1634468, 60705, Decimal('4'), 747, 6083, 1, 12, 1, 1, 4)\n",
      "(12745037, 15634037, 'Fully Paid', 214258, 3, 4339, 260340, 2, 2, 220220, 134083, Decimal('61'), 7370, 4339, 2, 28, 0, 6, 0)\n",
      "(12745038, 15634038, 'Fully Paid', 325754, 2, 6590, 395400, 1, 2, 496474, 225549, Decimal('45'), 699, 6590, 1, 29, 1, 4, 5)\n",
      "(12745039, 15634039, 'Charged Off', 651354, 3, 13200, 792000, 1, 2, 107052, 28291, Decimal('26'), 751, 13200, 3, 12, 0, 2, 1)\n",
      "(12745040, 15634040, 'Charged Off', 262108, 1, 5312, 318720, 2, 2, 428956, 334533, Decimal('78'), 694, 5312, 1, 2, 1, 7, 2)\n",
      "(12745041, 15634041, 'Fully Paid', 310376, 2, 6286, 377160, 2, 1, 413754, 302309, Decimal('73'), 720, 6286, 3, 9, 0, 7, 4)\n",
      "(12745042, 15634042, 'Fully Paid', 429616, 3, 8699, 521940, 1, 1, 2004618, 813694, Decimal('41'), 699, 8699, 2, 25, 0, 1, 1)\n",
      "(12745043, 15634043, 'Charged Off', 414744, 2, 8143, 488580, 0, 2, 402380, 9728, Decimal('2'), 675, 8143, 1, 15, 1, 7, 0)\n",
      "(12745044, 15634044, 'Fully Paid', 654126, 1, 13261, 795660, 0, 1, 801812, 121182, Decimal('15'), 724, 13261, 2, 8, 1, 4, 3)\n",
      "(12745045, 15634045, 'Fully Paid', 539990, 2, 10949, 656940, 0, 1, 126940, 60287, Decimal('47'), 657, 10949, 1, 28, 1, 7, 1)\n",
      "(12745046, 15634046, 'Charged Off', 531476, 2, 10776, 646560, 1, 3, 458788, 131936, Decimal('29'), 678, 10776, 2, 2, 1, 4, 3)\n",
      "(12745047, 15634047, 'Fully Paid', 316426, 3, 6417, 385020, 0, 1, 1081014, 891594, Decimal('82'), 736, 6417, 3, 22, 1, 3, 4)\n",
      "(12745048, 15634048, 'Fully Paid', 473902, 1, 9600, 576000, 2, 2, 230626, 95608, Decimal('41'), 737, 9600, 1, 9, 1, 1, 2)\n",
      "(12745049, 15634049, 'Charged Off', 223344, 2, 4529, 271740, 0, 1, 245014, 143051, Decimal('58'), 748, 4529, 2, 5, 1, 4, 1)\n",
      "(12745050, 15634050, 'Charged Off', 215138, 2, 4359, 261540, 1, 1, 615692, 278103, Decimal('0'), 726, 4359, 1, 10, 0, 4, 0)\n",
      "(12745051, 15634051, 'Fully Paid', 782408, 3, 15856, 951360, 0, 2, 528198, 40603, Decimal('0'), 739, 15856, 1, 7, 0, 2, 1)\n",
      "(12745052, 15634052, 'Charged Off', 257554, 2, 5211, 312660, 1, 1, 412984, 82023, Decimal('0'), 719, 5211, 2, 23, 1, 6, 4)\n",
      "(12745053, 15634053, 'Fully Paid', 268752, 3, 5434, 326040, 1, 2, 443806, 57494, Decimal('0'), 729, 5434, 3, 14, 1, 6, 0)\n",
      "(12745054, 15634054, 'Fully Paid', 147400, 3, 2981, 178860, 0, 3, 430408, 167276, Decimal('0'), 748, 2981, 1, 2, 0, 1, 4)\n",
      "(12745055, 15634055, 'Fully Paid', 263428, 3, 5333, 319980, 0, 1, 746306, 482771, Decimal('1'), 740, 5333, 1, 24, 0, 2, 0)\n",
      "(12745056, 15634056, 'Charged Off', 444400, 1, 9003, 540180, 1, 1, 123398, 88122, Decimal('1'), 739, 9003, 1, 18, 0, 4, 0)\n",
      "(12745057, 15634057, 'Charged Off', 387288, 1, 7847, 470820, 1, 1, 423896, 239058, Decimal('1'), 744, 7847, 3, 14, 1, 6, 1)\n",
      "(12745058, 15634058, 'Charged Off', 682858, 3, 13829, 829740, 0, 3, 441144, 209551, Decimal('0'), 722, 13829, 3, 15, 0, 2, 3)\n",
      "(12745059, 15634059, 'Charged Off', 234762, 1, 4745, 284700, 0, 3, 249370, 40280, Decimal('0'), 736, 4745, 1, 16, 1, 5, 5)\n",
      "(12745060, 15634060, 'Charged Off', 107844, 3, 2170, 130200, 1, 3, 299046, 233472, Decimal('1'), 738, 2170, 2, 23, 0, 5, 2)\n",
      "(12745061, 15634061, 'Charged Off', 259754, 1, 5252, 315120, 0, 2, 314556, 46721, Decimal('0'), 7300, 5252, 3, 19, 0, 3, 0)\n",
      "(12745062, 15634062, 'Fully Paid', 264836, 1, 5353, 321180, 0, 1, 459052, 313595, Decimal('1'), 740, 5353, 1, 27, 1, 4, 3)\n",
      "(12745063, 15634063, 'Fully Paid', 223102, 1, 4522, 271320, 1, 2, 406538, 258400, Decimal('1'), 738, 4522, 3, 23, 0, 6, 4)\n",
      "(12745064, 15634064, 'Fully Paid', 748154, 2, 15167, 910020, 0, 2, 301246, 207347, Decimal('1'), 749, 15167, 3, 27, 0, 6, 2)\n",
      "(12745065, 15634065, 'Charged Off', 434896, 1, 8800, 528000, 1, 2, 928774, 760399, Decimal('1'), 731, 8800, 3, 19, 1, 4, 1)\n",
      "(12745066, 15634066, 'Charged Off', 156552, 2, 3163, 189780, 0, 2, 2009788, 107616, Decimal('0'), 664, 3163, 3, 27, 1, 2, 3)\n",
      "(12745067, 15634067, 'Fully Paid', 132000, 3, 2676, 160560, 0, 3, 674366, 216068, Decimal('0'), 700, 2676, 2, 23, 1, 2, 2)\n",
      "(12745068, 15634068, 'Fully Paid', 358116, 3, 7259, 435540, 1, 1, 197494, 157434, Decimal('1'), 721, 7259, 3, 23, 0, 1, 0)\n",
      "(12745069, 15634069, 'Fully Paid', 224598, 1, 4542, 272520, 1, 1, 352946, 88084, Decimal('0'), 723, 4542, 1, 3, 0, 1, 5)\n",
      "(12745070, 15634070, 'Fully Paid', 108130, 2, 2190, 131400, 1, 3, 928730, 338485, Decimal('0'), 727, 2190, 1, 18, 0, 1, 0)\n",
      "(12745071, 15634071, 'Charged Off', 526460, 1, 10665, 639900, 0, 2, 2652232, 364192, Decimal('0'), 706, 10665, 2, 24, 0, 4, 5)\n",
      "(12745072, 15634072, 'Charged Off', 608014, 2, 12328, 739680, 1, 3, 1429230, 657913, Decimal('0'), 748, 12328, 2, 18, 0, 4, 5)\n",
      "(12745073, 15634073, 'Fully Paid', 435864, 2, 8820, 529200, 0, 3, 203302, 82517, Decimal('0'), 739, 8820, 1, 12, 0, 3, 2)\n",
      "(12745074, 15634074, 'Charged Off', 436524, 1, 8841, 530460, 0, 3, 487938, 152969, Decimal('0'), 636, 8841, 1, 21, 0, 5, 4)\n"
     ]
    }
   ],
   "source": [
    "import mysql.connector\n",
    "\n",
    "mydb = mysql.connector.connect(\n",
    "  host=\"loanmanagement.cmof1hljrqlw.us-east-1.rds.amazonaws.com\",\n",
    "  database='loanmanagement',\n",
    "  port='3306',\n",
    "  user='admin',\n",
    "  passwd='admin12345')\n",
    "                                        \n",
    "mycursor = mydb.cursor()\n",
    "\n",
    "mycursor.execute(\"SELECT * FROM customer_loan_detail\")\n",
    "myresult = mycursor.fetchall()\n"
   ]
  },
  {
   "cell_type": "code",
   "execution_count": 10,
   "id": "52a12305",
   "metadata": {},
   "outputs": [
    {
     "name": "stdout",
     "output_type": "stream",
     "text": [
      "Note: you may need to restart the kernel to use updated packages.\n"
     ]
    },
    {
     "name": "stderr",
     "output_type": "stream",
     "text": [
      "ERROR: Could not find a version that satisfies the requirement sqlite (from versions: none)\n",
      "ERROR: No matching distribution found for sqlite\n"
     ]
    }
   ],
   "source": [
    "pip install sqlite"
   ]
  },
  {
   "cell_type": "code",
   "execution_count": 15,
   "id": "601fa54c",
   "metadata": {},
   "outputs": [
    {
     "name": "stdout",
     "output_type": "stream",
     "text": [
      "     Loan_ID  Customer_ID  Loan_Status  Current_Loan_Amount  \\\n",
      "0   12745000     15634000   Fully Paid              1000000   \n",
      "1   12745001     15634001   Fully Paid               611314   \n",
      "2   12745002     15634002   Fully Paid               266662   \n",
      "3   12745003     15634003   Fully Paid               153494   \n",
      "4   12745004     15634004   Fully Paid               176242   \n",
      "..       ...          ...          ...                  ...   \n",
      "70  12745070     15634070   Fully Paid               108130   \n",
      "71  12745071     15634071  Charged Off               526460   \n",
      "72  12745072     15634072  Charged Off               608014   \n",
      "73  12745073     15634073   Fully Paid               435864   \n",
      "74  12745074     15634074  Charged Off               436524   \n",
      "\n",
      "    No_of_Active_Loans  Current_EMI  Total_EMI  No_of_Closed_Loan  \\\n",
      "0                    1        21742    1304520                  0   \n",
      "1                    2        11323     679380                  1   \n",
      "2                    2         5661     339660                  0   \n",
      "3                    1         3774     226440                  1   \n",
      "4                    1         4000     240000                  2   \n",
      "..                 ...          ...        ...                ...   \n",
      "70                   2         2190     131400                  1   \n",
      "71                   1        10665     639900                  0   \n",
      "72                   2        12328     739680                  1   \n",
      "73                   2         8820     529200                  0   \n",
      "74                   1         8841     530460                  0   \n",
      "\n",
      "    No_of_Active_Credit_Card  Credit_limit  Used_Limit  \\\n",
      "0                          1        161000       81000   \n",
      "1                          2        222897       80108   \n",
      "2                          2        195510       27539   \n",
      "3                          2        135184       99899   \n",
      "4                          3        231683       96965   \n",
      "..                       ...           ...         ...   \n",
      "70                         3        928730      338485   \n",
      "71                         2       2652232      364192   \n",
      "72                         3       1429230      657913   \n",
      "73                         3        203302       82517   \n",
      "74                         3        487938      152969   \n",
      "\n",
      "   Percentage_of_Utilization  Cibil_Score  Total_Obligation  \\\n",
      "0                         50          752             21742   \n",
      "1                         36          747             11323   \n",
      "2                         14          734              5661   \n",
      "3                         74          709              3774   \n",
      "4                         42          727              4000   \n",
      "..                       ...          ...               ...   \n",
      "70                         0          727              2190   \n",
      "71                         0          706             10665   \n",
      "72                         0          748             12328   \n",
      "73                         0          739              8820   \n",
      "74                         0          636              8841   \n",
      "\n",
      "    No_of_dependencies  Risk_factor_in_percentage  No_of_cheque_bounces  \\\n",
      "0                    3                          8                     1   \n",
      "1                    3                          7                     0   \n",
      "2                    3                         21                     1   \n",
      "3                    2                         30                     1   \n",
      "4                    1                         17                     0   \n",
      "..                 ...                        ...                   ...   \n",
      "70                   1                         18                     0   \n",
      "71                   2                         24                     0   \n",
      "72                   2                         18                     0   \n",
      "73                   1                         12                     0   \n",
      "74                   1                         21                     0   \n",
      "\n",
      "    No_of_enqires_in_last_6months  No_of_loan_rejected_in_last_6months  \n",
      "0                               2                                    0  \n",
      "1                               6                                    5  \n",
      "2                               3                                    4  \n",
      "3                               2                                    4  \n",
      "4                               1                                    0  \n",
      "..                            ...                                  ...  \n",
      "70                              1                                    0  \n",
      "71                              4                                    5  \n",
      "72                              4                                    5  \n",
      "73                              3                                    2  \n",
      "74                              5                                    4  \n",
      "\n",
      "[75 rows x 19 columns]\n"
     ]
    }
   ],
   "source": [
    "\n",
    "import pandas as pd\n",
    "import mysql.connector\n",
    "\n",
    "mydb = mysql.connector.connect(\n",
    "  host=\"loanmanagement.cmof1hljrqlw.us-east-1.rds.amazonaws.com\",\n",
    "  database='loanmanagement',\n",
    "  port='3306',\n",
    "  user='admin',\n",
    "  passwd='admin12345')\n",
    "c = mydb.cursor()\n",
    "c.execute(\"SELECT * FROM customer_loan_detail\")              \n",
    "df = pd.DataFrame(c.fetchall(), columns = ['Loan_ID', 'Customer_ID', 'Loan_Status', 'Current_Loan_Amount', 'No_of_Active_Loans', 'Current_EMI','Total_EMI','No_of_Closed_Loan','No_of_Active_Credit_Card','Credit_limit','Used_Limit','Percentage_of_Utilization','Cibil_Score','Total_Obligation','No_of_dependencies','Risk_factor_in_percentage','No_of_cheque_bounces','No_of_enqires_in_last_6months','No_of_loan_rejected_in_last_6months'])\n",
    "print (df)"
   ]
  },
  {
   "cell_type": "code",
   "execution_count": 16,
   "id": "e35a7d84",
   "metadata": {},
   "outputs": [
    {
     "data": {
      "text/plain": [
       "<seaborn.axisgrid.FacetGrid at 0x1d1a265a3a0>"
      ]
     },
     "execution_count": 16,
     "metadata": {},
     "output_type": "execute_result"
    },
    {
     "data": {
      "image/png": "[encoded data removed]",
      "text/plain": [
       "<Figure size 360x360 with 1 Axes>"
      ]
     },
     "metadata": {
      "needs_background": "light"
     },
     "output_type": "display_data"
    }
   ],
   "source": [
    "import seaborn as sns \n",
    "sns.relplot(data=df, x=\"Cibil_Score\", y=\"Current_Loan_Amount\")"
   ]
  },
  {
   "cell_type": "code",
   "execution_count": 4,
   "id": "a98be099",
   "metadata": {},
   "outputs": [
    {
     "ename": "NameError",
     "evalue": "name 'df' is not defined",
     "output_type": "error",
     "traceback": [
      "\u001b[1;31m---------------------------------------------------------------------------\u001b[0m",
      "\u001b[1;31mNameError\u001b[0m                                 Traceback (most recent call last)",
      "Input \u001b[1;32mIn [4]\u001b[0m, in \u001b[0;36m<cell line: 2>\u001b[1;34m()\u001b[0m\n\u001b[0;32m      1\u001b[0m \u001b[38;5;28;01mimport\u001b[39;00m \u001b[38;5;21;01mseaborn\u001b[39;00m \u001b[38;5;28;01mas\u001b[39;00m \u001b[38;5;21;01msns\u001b[39;00m \n\u001b[1;32m----> 2\u001b[0m sns\u001b[38;5;241m.\u001b[39mrelplot(data\u001b[38;5;241m=\u001b[39m\u001b[43mdf\u001b[49m, x\u001b[38;5;241m=\u001b[39m\u001b[38;5;124m\"\u001b[39m\u001b[38;5;124mCurrent_EMI\u001b[39m\u001b[38;5;124m\"\u001b[39m, y\u001b[38;5;241m=\u001b[39m\u001b[38;5;124m\"\u001b[39m\u001b[38;5;124mCurrent_Loan_Amount\u001b[39m\u001b[38;5;124m\"\u001b[39m)\n",
      "\u001b[1;31mNameError\u001b[0m: name 'df' is not defined"
     ]
    }
   ],
   "source": [
    "import seaborn as sns \n",
    "sns.relplot(data=df, x=\"Current_EMI\", y=\"Current_Loan_Amount\")"
   ]
  },
  {
   "cell_type": "code",
   "execution_count": 2,
   "id": "6ca8c6ee",
   "metadata": {},
   "outputs": [
    {
     "name": "stdout",
     "output_type": "stream",
     "text": [
      "    Monthly_Income  Current_Loan_Amount\n",
      "0           461039              1000000\n",
      "1            51060               611314\n",
      "2           384578               266662\n",
      "3           497872               153494\n",
      "4           273016               176242\n",
      "..             ...                  ...\n",
      "70          108601               108130\n",
      "71          329787               526460\n",
      "72          250647               608014\n",
      "73          383452               435864\n",
      "74          284432               436524\n",
      "\n",
      "[75 rows x 2 columns]\n"
     ]
    }
   ],
   "source": [
    "\n",
    "import pandas as pd\n",
    "import mysql.connector\n",
    "\n",
    "mydb = mysql.connector.connect(\n",
    "  host=\"loanmanagement.cmof1hljrqlw.us-east-1.rds.amazonaws.com\",\n",
    "  database='loanmanagement',\n",
    "  port='3306',\n",
    "  user='admin',\n",
    "  passwd='admin12345')\n",
    "c = mydb.cursor()\n",
    "c.execute(\"SELECT a.Monthly_Income,b.Current_Loan_Amount FROM customer_detail as a inner join customer_loan_detail as b where a.Customer_ID=b.Customer_ID\")              \n",
    "df = pd.DataFrame(c.fetchall(), columns = ['Monthly_Income','Current_Loan_Amount'])\n",
    "print (df)"
   ]
  },
  {
   "cell_type": "code",
   "execution_count": 4,
   "id": "4fffbd53",
   "metadata": {},
   "outputs": [
    {
     "data": {
      "text/plain": [
       "<seaborn.axisgrid.FacetGrid at 0x28794a47a60>"
      ]
     },
     "execution_count": 4,
     "metadata": {},
     "output_type": "execute_result"
    },
    {
     "data": {
      "image/png": "[encoded data removed]",
      "text/plain": [
       "<Figure size 360x360 with 1 Axes>"
      ]
     },
     "metadata": {
      "needs_background": "light"
     },
     "output_type": "display_data"
    }
   ],
   "source": [
    "import seaborn as sns \n",
    "sns.relplot(data=df, x=\"Monthly_Income\", y=\"Current_Loan_Amount\")"
   ]
  },
  {
   "cell_type": "code",
   "execution_count": 5,
   "id": "c348d2e3",
   "metadata": {},
   "outputs": [
    {
     "name": "stdout",
     "output_type": "stream",
     "text": [
      "           Education  Current_Loan_Amount\n",
      "0           Engineer              1000000\n",
      "1             Doctor               611314\n",
      "2         illiterate               266662\n",
      "3             Doctor               153494\n",
      "4              Other               176242\n",
      "..               ...                  ...\n",
      "70             Other               108130\n",
      "71            Doctor               526460\n",
      "72  Universitydegree               608014\n",
      "73       High School               435864\n",
      "74             Other               436524\n",
      "\n",
      "[75 rows x 2 columns]\n"
     ]
    }
   ],
   "source": [
    "\n",
    "import pandas as pd\n",
    "import mysql.connector\n",
    "\n",
    "mydb = mysql.connector.connect(\n",
    "  host=\"loanmanagement.cmof1hljrqlw.us-east-1.rds.amazonaws.com\",\n",
    "  database='loanmanagement',\n",
    "  port='3306',\n",
    "  user='admin',\n",
    "  passwd='admin12345')\n",
    "c = mydb.cursor()\n",
    "c.execute(\"SELECT a.Education,b.Current_Loan_Amount FROM customer_detail as a inner join customer_loan_detail as b where a.Customer_ID=b.Customer_ID\")              \n",
    "df = pd.DataFrame(c.fetchall(), columns = ['Education','Current_Loan_Amount'])\n",
    "print (df)"
   ]
  },
  {
   "cell_type": "code",
   "execution_count": 7,
   "id": "91a6e086",
   "metadata": {},
   "outputs": [
    {
     "data": {
      "text/plain": [
       "<AxesSubplot:xlabel='Education', ylabel='Current_Loan_Amount'>"
      ]
     },
     "execution_count": 7,
     "metadata": {},
     "output_type": "execute_result"
    },
    {
     "data": {
      "image/png": "[encoded data removed]",
      "text/plain": [
       "<Figure size 432x288 with 1 Axes>"
      ]
     },
     "metadata": {
      "needs_background": "light"
     },
     "output_type": "display_data"
    }
   ],
   "source": [
    "import seaborn as sns \n",
    "sns.barplot(data=df, x=\"Education\", y=\"Current_Loan_Amount\")"
   ]
  },
  {
   "cell_type": "code",
   "execution_count": 8,
   "id": "244dc246",
   "metadata": {},
   "outputs": [
    {
     "name": "stdout",
     "output_type": "stream",
     "text": [
      "    No_of_Property  Current_Loan_Amount\n",
      "0                3              1000000\n",
      "1                1               611314\n",
      "2                5               266662\n",
      "3               10               153494\n",
      "4                3               176242\n",
      "..             ...                  ...\n",
      "70               6               108130\n",
      "71               9               526460\n",
      "72               4               608014\n",
      "73               2               435864\n",
      "74              10               436524\n",
      "\n",
      "[75 rows x 2 columns]\n"
     ]
    }
   ],
   "source": [
    "import pandas as pd\n",
    "import mysql.connector\n",
    "\n",
    "mydb = mysql.connector.connect(\n",
    "  host=\"loanmanagement.cmof1hljrqlw.us-east-1.rds.amazonaws.com\",\n",
    "  database='loanmanagement',\n",
    "  port='3306',\n",
    "  user='admin',\n",
    "  passwd='admin12345')\n",
    "c = mydb.cursor()\n",
    "c.execute(\"SELECT a.No_of_Property,b.Current_Loan_Amount FROM customer_detail as a inner join customer_loan_detail as b where a.Customer_ID=b.Customer_ID\")              \n",
    "df = pd.DataFrame(c.fetchall(), columns = ['No_of_Property','Current_Loan_Amount'])\n",
    "print (df)"
   ]
  },
  {
   "cell_type": "code",
   "execution_count": 9,
   "id": "b060b25d",
   "metadata": {},
   "outputs": [
    {
     "data": {
      "text/plain": [
       "<AxesSubplot:xlabel='No_of_Property', ylabel='Current_Loan_Amount'>"
      ]
     },
     "execution_count": 9,
     "metadata": {},
     "output_type": "execute_result"
    },
    {
     "data": {
      "image/png": "[encoded data removed]",
      "text/plain": [
       "<Figure size 432x288 with 1 Axes>"
      ]
     },
     "metadata": {
      "needs_background": "light"
     },
     "output_type": "display_data"
    }
   ],
   "source": [
    "import seaborn as sns \n",
    "sns.barplot(data=df, x=\"No_of_Property\", y=\"Current_Loan_Amount\")"
   ]
  },
  {
   "cell_type": "code",
   "execution_count": 10,
   "id": "423cbb8b",
   "metadata": {},
   "outputs": [
    {
     "name": "stdout",
     "output_type": "stream",
     "text": [
      "    No_of_dependencies  Current_Loan_Amount\n",
      "0                    3              1000000\n",
      "1                    3               611314\n",
      "2                    3               266662\n",
      "3                    2               153494\n",
      "4                    1               176242\n",
      "..                 ...                  ...\n",
      "70                   1               108130\n",
      "71                   2               526460\n",
      "72                   2               608014\n",
      "73                   1               435864\n",
      "74                   1               436524\n",
      "\n",
      "[75 rows x 2 columns]\n"
     ]
    }
   ],
   "source": [
    "import pandas as pd\n",
    "import mysql.connector\n",
    "\n",
    "mydb = mysql.connector.connect(\n",
    "  host=\"loanmanagement.cmof1hljrqlw.us-east-1.rds.amazonaws.com\",\n",
    "  database='loanmanagement',\n",
    "  port='3306',\n",
    "  user='admin',\n",
    "  passwd='admin12345')\n",
    "c = mydb.cursor()\n",
    "c.execute(\"SELECT No_of_dependencies,Current_Loan_Amount FROM customer_loan_detail\")              \n",
    "df = pd.DataFrame(c.fetchall(), columns = ['No_of_dependencies','Current_Loan_Amount'])\n",
    "print (df)"
   ]
  },
  {
   "cell_type": "code",
   "execution_count": 12,
   "id": "7daab42a",
   "metadata": {},
   "outputs": [
    {
     "data": {
      "text/plain": [
       "<AxesSubplot:xlabel='No_of_dependencies', ylabel='count'>"
      ]
     },
     "execution_count": 12,
     "metadata": {},
     "output_type": "execute_result"
    },
    {
     "data": {
      "image/png": "[encoded data removed]",
      "text/plain": [
       "<Figure size 432x288 with 1 Axes>"
      ]
     },
     "metadata": {
      "needs_background": "light"
     },
     "output_type": "display_data"
    }
   ],
   "source": [
    "import seaborn as sns \n",
    "sns.countplot(x=df[\"No_of_dependencies\"])"
   ]
  },
  {
   "cell_type": "code",
   "execution_count": null,
   "id": "0b87899c",
   "metadata": {},
   "outputs": [],
   "source": []
  }
 ],
 "metadata": {
  "kernelspec": {
   "display_name": "Python 3 (ipykernel)",
   "language": "python",
   "name": "python3"
  },
  "language_info": {
   "codemirror_mode": {
    "name": "ipython",
    "version": 3
   },
   "file_extension": ".py",
   "mimetype": "text/x-python",
   "name": "python",
   "nbconvert_exporter": "python",
   "pygments_lexer": "ipython3",
   "version": "3.9.12"
  }
 },
 "nbformat": 4,
 "nbformat_minor": 5
}
